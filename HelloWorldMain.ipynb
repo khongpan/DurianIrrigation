{
  "nbformat": 4,
  "nbformat_minor": 0,
  "metadata": {
    "colab": {
      "name": "HelloWorldMain.ipynb",
      "provenance": [],
      "authorship_tag": "ABX9TyP50m+yCLgmK6f/jvo+e6ch",
      "include_colab_link": true
    },
    "kernelspec": {
      "name": "python3",
      "display_name": "Python 3"
    }
  },
  "cells": [
    {
      "cell_type": "markdown",
      "metadata": {
        "id": "view-in-github",
        "colab_type": "text"
      },
      "source": [
        "<a href=\"https://colab.research.google.com/github/khongpan/DurianIrrigation/blob/main/HelloWorldMain.ipynb\" target=\"_parent\"><img src=\"https://colab.research.google.com/assets/colab-badge.svg\" alt=\"Open In Colab\"/></a>"
      ]
    },
    {
      "cell_type": "code",
      "metadata": {
        "id": "MKK4ctFpND5M"
      },
      "source": [
        "from lib import *\n",
        "\n",
        "def main():\n",
        "    print(\"Hello World!\")\n",
        "    print(\"Hello again!\")\n",
        "\n",
        "if __name__ == \"__main__\":\n",
        "    main()"
      ],
      "execution_count": null,
      "outputs": []
    }
  ]
}